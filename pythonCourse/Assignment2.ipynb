{
  "nbformat": 4,
  "nbformat_minor": 0,
  "metadata": {
    "colab": {
      "name": "Untitled3.ipynb",
      "provenance": [],
      "authorship_tag": "ABX9TyP7KCVs34drneqyPpzVQt3P",
      "include_colab_link": true
    },
    "kernelspec": {
      "name": "python3",
      "display_name": "Python 3"
    }
  },
  "cells": [
    {
      "cell_type": "markdown",
      "metadata": {
        "id": "view-in-github",
        "colab_type": "text"
      },
      "source": [
        "<a href=\"https://colab.research.google.com/github/sumalatha-e/PythonLearningProject/blob/master/pythonCourse/Assignment2.ipynb\" target=\"_parent\"><img src=\"https://colab.research.google.com/assets/colab-badge.svg\" alt=\"Open In Colab\"/></a>"
      ]
    },
    {
      "cell_type": "markdown",
      "metadata": {
        "id": "3ub_36mW1Vbv",
        "colab_type": "text"
      },
      "source": [
        "**# Assignment 1**"
      ]
    },
    {
      "cell_type": "code",
      "metadata": {
        "id": "VE0SwZQd1dgH",
        "colab_type": "code",
        "colab": {
          "base_uri": "https://localhost:8080/",
          "height": 85
        },
        "outputId": "4596d8c4-80b6-4aee-c4bd-663fcbb04c13"
      },
      "source": [
        "\n",
        "\n",
        "def printgradefunction(str):\n",
        "  print(\"|------------|\")\n",
        "  print(str)\n",
        "  print(\"|------------|\")\n",
        "\n",
        "#Input the value\n",
        "Input_Marks=int(input(\"Enter the Marks obtained by student-\"))\n",
        "\n",
        "#Condition check to Differentiate the grade for the marks obtained by the student\n",
        "if(Input_Marks>=91 and Input_Marks<=100 ):\n",
        "  printgradefunction(\"A\")\n",
        "elif(Input_Marks>=81 and Input_Marks<=90 ):\n",
        "  printgradefunction(\"B\") \n",
        "elif(Input_Marks>=71 and Input_Marks<=80 ):\n",
        "  printgradefunction(\"C\")\n",
        "elif(Input_Marks>=61 and Input_Marks<=70 ):\n",
        "  printgradefunction(\"D\")\n",
        "elif(Input_Marks>=36 and Input_Marks<=60 ):\n",
        "  printgradefunction(\"E\")\n",
        "else:\n",
        "  print(\"|------------|\")\n",
        "  print(\"FAIL\") \n",
        "  print(\"|------------|\")        "
      ],
      "execution_count": 7,
      "outputs": [
        {
          "output_type": "stream",
          "text": [
            "Enter the Marks obtained by the student-100\n",
            "|------------|\n",
            "A\n",
            "|------------|\n"
          ],
          "name": "stdout"
        }
      ]
    },
    {
      "cell_type": "markdown",
      "metadata": {
        "id": "UExx3NZ86WEs",
        "colab_type": "text"
      },
      "source": [
        "**# Assignment 2**"
      ]
    },
    {
      "cell_type": "code",
      "metadata": {
        "id": "tH8WkF3g5123",
        "colab_type": "code",
        "colab": {
          "base_uri": "https://localhost:8080/",
          "height": 68
        },
        "outputId": "a309055c-3e83-41b8-cfee-77f72f34cc76"
      },
      "source": [
        "# importing the random module\n",
        "import random\n",
        "#printing random number within the range of 1 to 250\n",
        "Cricket_score_random=random.randint(0,251)\n",
        "print (\"Random cricket score-\",Cricket_score_random)\n",
        "\n",
        "#Input given by the player\n",
        "Player_Input=int(input(\"Enter the Expected score-\"))\n",
        "\n",
        "\n",
        "if(Player_Input<1 or Player_Input>250):\n",
        "  print(\"Reduce your expection for 20-20 cricket Match\")\n",
        "elif(Player_Input<=(Cricket_score_random+10) and Player_Input>=(Cricket_score_random-10)):\n",
        "  print(\"Close By You Are True Indian Fan!\")\n",
        "else:\n",
        "  print(\"You dont watch that Match!:\")\n",
        "\n"
      ],
      "execution_count": 24,
      "outputs": [
        {
          "output_type": "stream",
          "text": [
            "Random cricket score- 91\n",
            "Enter the Expected score-80\n",
            "You dont watch that Match!:\n"
          ],
          "name": "stdout"
        }
      ]
    },
    {
      "cell_type": "markdown",
      "metadata": {
        "id": "Bg9n2z8zEJA8",
        "colab_type": "text"
      },
      "source": [
        "**# Assignment 3**"
      ]
    },
    {
      "cell_type": "code",
      "metadata": {
        "id": "68t7-kMg9h-G",
        "colab_type": "code",
        "colab": {
          "base_uri": "https://localhost:8080/",
          "height": 34
        },
        "outputId": "f8560741-9d6d-4e93-89c2-50ccac8c6b10"
      },
      "source": [
        "#opening a file\n",
        "new_file=open(\"Dummy.txt\",'w')\n",
        "\n",
        "#writing in to the file\n",
        "new_file.write(\"Hey Hi!\")\n",
        "\n",
        "#closing a file\n",
        "new_file.close()\n",
        "\n",
        "#opening the file  in read mode\n",
        "text_inside_file=open(\"Dummy.txt\",'r')\n",
        "print(text_inside_file.read())\n",
        "\n"
      ],
      "execution_count": 26,
      "outputs": [
        {
          "output_type": "stream",
          "text": [
            "Hey Hi!\n"
          ],
          "name": "stdout"
        }
      ]
    },
    {
      "cell_type": "markdown",
      "metadata": {
        "id": "voXGMJGPFkxD",
        "colab_type": "text"
      },
      "source": [
        "**# Assignment 4**"
      ]
    },
    {
      "cell_type": "code",
      "metadata": {
        "id": "03_N7M_lFphj",
        "colab_type": "code",
        "colab": {
          "base_uri": "https://localhost:8080/",
          "height": 102
        },
        "outputId": "324eeafa-42a0-4ff2-c848-caa4b0cfa15f"
      },
      "source": [
        "\n",
        "#Enter the Length\n",
        "length=int(input(\"Enter the length-\"))\n",
        "\n",
        "#Enter the Number of Photos\n",
        "Number_of_photos=int(input(\"Enter the Number of Photos-\"))\n",
        "tup=dict()\n",
        "for j in range (0,Number_of_photos):\n",
        "  w, h=input(\"Enter the width height: \").split()\n",
        "  width=int(w)\n",
        "  height=int(h)\n",
        "  tempTuple = (width, height)\n",
        "  tup[j]= tempTuple\n",
        "\n",
        "for i in range(0,Number_of_photos):\n",
        "  tempTuple = tup[i]\n",
        "  width = tempTuple[0]\n",
        "  height = tempTuple[1]\n",
        "  print(tempTuple)\n",
        "  if(width<length or height<length):\n",
        "    print(\"Upload Another\")\n",
        "  elif(width==length and height==length):\n",
        "    print(\"Accepted\")\n",
        "  else:\n",
        "    print(\"crop it\")\n",
        "  "
      ],
      "execution_count": 54,
      "outputs": [
        {
          "output_type": "stream",
          "text": [
            "Enter the length-3\n",
            "Enter the Number of Photos-1\n",
            "Enter the width height: 4 5\n",
            "(4, 5)\n",
            "crop it\n"
          ],
          "name": "stdout"
        }
      ]
    },
    {
      "cell_type": "markdown",
      "metadata": {
        "id": "l7y-wNT7WgV9",
        "colab_type": "text"
      },
      "source": [
        "# Assignment 5\n",
        "Question is not proper"
      ]
    }
  ]
}