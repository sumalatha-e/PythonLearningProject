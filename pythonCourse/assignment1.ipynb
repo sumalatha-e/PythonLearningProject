{
  "nbformat": 4,
  "nbformat_minor": 0,
  "metadata": {
    "colab": {
      "name": "Untitled2.ipynb",
      "provenance": [],
      "authorship_tag": "ABX9TyPt42eIuBPNIq9cR6ECYAWY",
      "include_colab_link": true
    },
    "kernelspec": {
      "name": "python3",
      "display_name": "Python 3"
    }
  },
  "cells": [
    {
      "cell_type": "markdown",
      "metadata": {
        "id": "view-in-github",
        "colab_type": "text"
      },
      "source": [
        "<a href=\"https://colab.research.google.com/github/sumalatha-e/PythonLearningProject/blob/master/pythonCourse/assignment1.ipynb\" target=\"_parent\"><img src=\"https://colab.research.google.com/assets/colab-badge.svg\" alt=\"Open In Colab\"/></a>"
      ]
    },
    {
      "cell_type": "markdown",
      "metadata": {
        "id": "VzuI0ghnqS4Q",
        "colab_type": "text"
      },
      "source": [
        "**#List and its Default Functions**"
      ]
    },
    {
      "cell_type": "markdown",
      "metadata": {
        "id": "jCSqjq5qqZze",
        "colab_type": "text"
      },
      "source": [
        "A list is a data structure in Python that is a mutable, or changeable, ordered sequence of elements. Each element or value that is inside of a list is called an item."
      ]
    },
    {
      "cell_type": "code",
      "metadata": {
        "id": "YfYTnFPlqdDZ",
        "colab_type": "code",
        "colab": {
          "base_uri": "https://localhost:8080/",
          "height": 51
        },
        "outputId": "a34586a1-e1fb-47a6-f4a5-c8c6dae614c3"
      },
      "source": [
        "#Index Function\n",
        "#The index() method searches an element in the list and returns its index.\n",
        "vowels = ['a', 'e', 'i', 'o', 'i', 'u']\n",
        "# index of 'e'\n",
        "index = vowels.index('e')\n",
        "print('The index of e:', index)\n",
        "\n",
        "# index of the first 'i'\n",
        "index = vowels.index('i')\n",
        "print('The index of i:', index)\n",
        "\n"
      ],
      "execution_count": 16,
      "outputs": [
        {
          "output_type": "stream",
          "text": [
            "The index of e: 1\n",
            "The index of i: 2\n"
          ],
          "name": "stdout"
        }
      ]
    },
    {
      "cell_type": "code",
      "metadata": {
        "id": "VuLSa27Kqukm",
        "colab_type": "code",
        "colab": {
          "base_uri": "https://localhost:8080/",
          "height": 51
        },
        "outputId": "3af14de9-3a83-4ea3-e502-ddc8751abf7d"
      },
      "source": [
        "\n",
        "#append Function\n",
        "#The append() method adds a single item to the end of the list.\n",
        "# animals list\n",
        "animals = ['cat', 'dog', 'rabbit']\n",
        "\n",
        "# 'guinea pig' is appended to the animals list\n",
        "animals.append('guinea pig')\n",
        "\n",
        "# Updated animals list\n",
        "print('Updated animals list: ', animals)\n",
        "\n",
        "#Addind list to a list\n",
        "# animals list\n",
        "animals = ['cat', 'dog', 'rabbit']\n",
        "\n",
        "# list of wild animals\n",
        "wild_animals = ['tiger', 'fox']\n",
        "\n",
        "# appending wild_animals list to the animals list\n",
        "animals.append(wild_animals)\n",
        "\n",
        "print('Updated animals list: ', animals)\n"
      ],
      "execution_count": 13,
      "outputs": [
        {
          "output_type": "stream",
          "text": [
            "Updated animals list:  ['cat', 'dog', 'rabbit', 'guinea pig']\n",
            "Updated animals list:  ['cat', 'dog', 'rabbit', ['tiger', 'fox']]\n"
          ],
          "name": "stdout"
        }
      ]
    },
    {
      "cell_type": "code",
      "metadata": {
        "id": "KbFhXyV6q-lF",
        "colab_type": "code",
        "colab": {
          "base_uri": "https://localhost:8080/",
          "height": 68
        },
        "outputId": "39ab7a5b-5481-4a9d-9a72-e969a3c726ba"
      },
      "source": [
        "#extend Function\n",
        "#The extend() extends the list by adding all items of a list (passed as an argument) to the end.\n",
        "# language list\n",
        "language = ['French', 'English', 'German']\n",
        "\n",
        "# another list of language\n",
        "language1 = ['Spanish', 'Portuguese']\n",
        "\n",
        "language.extend(language1)\n",
        "\n",
        "# Extended List\n",
        "print('Language List: ', language)\n",
        "\n",
        "\n",
        "#Adding elents of tuple and set to list\n",
        "# language list\n",
        "language = ['French', 'English', 'German']\n",
        "\n",
        "# language tuple\n",
        "language_tuple = ('Spanish', 'Portuguese')\n",
        "\n",
        "# language set\n",
        "language_set = {'Chinese', 'Japanese'}\n",
        "\n",
        "# appending element of language tuple\n",
        "language.extend(language_tuple)\n",
        "\n",
        "print('New Language List: ', language)\n",
        "\n",
        "# appending element of language set\n",
        "language.extend(language_set)\n",
        "\n",
        "print('Newest Language List: ', language)"
      ],
      "execution_count": 14,
      "outputs": [
        {
          "output_type": "stream",
          "text": [
            "Language List:  ['French', 'English', 'German', 'Spanish', 'Portuguese']\n",
            "New Language List:  ['French', 'English', 'German', 'Spanish', 'Portuguese']\n",
            "Newest Language List:  ['French', 'English', 'German', 'Spanish', 'Portuguese', 'Chinese', 'Japanese']\n"
          ],
          "name": "stdout"
        }
      ]
    },
    {
      "cell_type": "code",
      "metadata": {
        "id": "M9JH2uIirmYl",
        "colab_type": "code",
        "colab": {
          "base_uri": "https://localhost:8080/",
          "height": 51
        },
        "outputId": "48b47f6b-970f-4ae7-f794-1404fe55ece6"
      },
      "source": [
        "#insert function\n",
        "#The insert() method inserts an element to the list at a given index.\n",
        "# vowel list\n",
        "vowel = ['a', 'e', 'i', 'u']\n",
        "\n",
        "# inserting element to list at 4th position\n",
        "vowel.insert(3, 'o')\n",
        "\n",
        "print('Updated List: ', vowel)\n",
        "\n",
        "#Inserting tuple to list\n",
        "mixed_list = [{1, 2}, [5, 6, 7]]\n",
        "\n",
        "# number tuple\n",
        "number_tuple = (3, 4)\n",
        "\n",
        "# inserting tuple to the list\n",
        "mixed_list.insert(1, number_tuple)\n",
        "\n",
        "print('Updated List: ', mixed_list)"
      ],
      "execution_count": 15,
      "outputs": [
        {
          "output_type": "stream",
          "text": [
            "Updated List:  ['a', 'e', 'i', 'o', 'u']\n",
            "Updated List:  [{1, 2}, (3, 4), [5, 6, 7]]\n"
          ],
          "name": "stdout"
        }
      ]
    },
    {
      "cell_type": "code",
      "metadata": {
        "id": "AgEVygp0tvDf",
        "colab_type": "code",
        "colab": {
          "base_uri": "https://localhost:8080/",
          "height": 51
        },
        "outputId": "0add0483-c312-4cb0-964f-a8119ac253da"
      },
      "source": [
        "#remove function\n",
        "# animals list\n",
        "animals = ['cat', 'dog', 'rabbit', 'guinea pig']\n",
        "\n",
        "# 'rabbit' is removed\n",
        "animals.remove('rabbit')\n",
        "\n",
        "# Updated animals List\n",
        "print('Updated animals list: ', animals)\n",
        "\n",
        "#remove() method on a list having duplicate elements\n",
        "#If a list contains duplicate elements, the remove() method only removes the first matching element.\n",
        "# animals list\n",
        "animals = ['cat', 'dog', 'dog', 'guinea pig', 'dog']\n",
        "\n",
        "# 'dog' is removed\n",
        "animals.remove('dog')\n",
        "\n",
        "# Updated animals list\n",
        "print('Updated animals list: ', animals)"
      ],
      "execution_count": 17,
      "outputs": [
        {
          "output_type": "stream",
          "text": [
            "Updated animals list:  ['cat', 'dog', 'guinea pig']\n",
            "Updated animals list:  ['cat', 'dog', 'guinea pig', 'dog']\n"
          ],
          "name": "stdout"
        }
      ]
    },
    {
      "cell_type": "code",
      "metadata": {
        "id": "qGfPUlZPvaVL",
        "colab_type": "code",
        "colab": {
          "base_uri": "https://localhost:8080/",
          "height": 85
        },
        "outputId": "2279a715-2080-4ced-eb99-5ef3c0b679fd"
      },
      "source": [
        "#count function\n",
        "#The count() method returns the number of occurrences of an element in a list.\n",
        "# vowels list\n",
        "vowels = ['a', 'e', 'i', 'o', 'i', 'u']\n",
        "\n",
        "# count element 'i'\n",
        "count = vowels.count('i')\n",
        "\n",
        "# print count\n",
        "print('The count of i is:', count)\n",
        "\n",
        "# count element 'p'\n",
        "count = vowels.count('p')\n",
        "\n",
        "# print count\n",
        "print('The count of p is:', count)\n",
        "\n",
        "#Count the occurrence of tuple and list inside the list\n",
        "# random list\n",
        "random = ['a', ('a', 'b'), ('a', 'b'), [3, 4]]\n",
        "\n",
        "# count element ('a', 'b')\n",
        "count = random.count(('a', 'b'))\n",
        "\n",
        "# print count\n",
        "print(\"The count of ('a', 'b') is:\", count)\n",
        "\n",
        "# count element [3, 4]\n",
        "count = random.count([3, 4])\n",
        "\n",
        "# print count\n",
        "print(\"The count of [3, 4] is:\", count)"
      ],
      "execution_count": 18,
      "outputs": [
        {
          "output_type": "stream",
          "text": [
            "The count of i is: 2\n",
            "The count of p is: 0\n",
            "The count of ('a', 'b') is: 2\n",
            "The count of [3, 4] is: 1\n"
          ],
          "name": "stdout"
        }
      ]
    },
    {
      "cell_type": "code",
      "metadata": {
        "id": "ivneHk3av4wl",
        "colab_type": "code",
        "colab": {
          "base_uri": "https://localhost:8080/",
          "height": 238
        },
        "outputId": "29269d41-4f48-4365-8d90-b40d88d51ce8"
      },
      "source": [
        "#pop function\n",
        "#The pop() method removes the item at the given index from the list and returns the removed item.\n",
        "# programming languages list\n",
        "languages = ['Python', 'Java', 'C++', 'French', 'C']\n",
        "\n",
        "# remove and return the 4th item\n",
        "return_value = languages.pop(3)\n",
        "print('Return Value:', return_value)\n",
        "\n",
        "# Updated List\n",
        "print('Updated List:', languages)\n",
        "\n",
        "#pop() without an index, and for negative indices\n",
        "# programming languages list\n",
        "languages = ['Python', 'Java', 'C++', 'Ruby', 'C']\n",
        "\n",
        "# remove and return the last item\n",
        "print('When index is not passed:') \n",
        "print('Return Value:', languages.pop())\n",
        "print('Updated List:', languages)\n",
        "\n",
        "# remove and return the last item\n",
        "print('\\nWhen -1 is passed:') \n",
        "print('Return Value:', languages.pop(-1))\n",
        "print('Updated List:', languages)\n",
        "\n",
        "# remove and return the third last item\n",
        "print('\\nWhen -3 is passed:') \n",
        "print('Return Value:', languages.pop(-3))\n",
        "print('Updated List:', languages)"
      ],
      "execution_count": 19,
      "outputs": [
        {
          "output_type": "stream",
          "text": [
            "Return Value: French\n",
            "Updated List: ['Python', 'Java', 'C++', 'C']\n",
            "When index is not passed:\n",
            "Return Value: C\n",
            "Updated List: ['Python', 'Java', 'C++', 'Ruby']\n",
            "\n",
            "When -1 is passed:\n",
            "Return Value: Ruby\n",
            "Updated List: ['Python', 'Java', 'C++']\n",
            "\n",
            "When -3 is passed:\n",
            "Return Value: Python\n",
            "Updated List: ['Java', 'C++']\n"
          ],
          "name": "stdout"
        }
      ]
    },
    {
      "cell_type": "code",
      "metadata": {
        "id": "nhAg2hoywfnw",
        "colab_type": "code",
        "colab": {
          "base_uri": "https://localhost:8080/",
          "height": 85
        },
        "outputId": "c1688742-f92b-47d8-8415-5919ed69c458"
      },
      "source": [
        "#Reverse function\n",
        "#The reverse() method reverses the elements of a given list.\n",
        "# Operating System List\n",
        "os = ['Windows', 'macOS', 'Linux']\n",
        "print('Original List:', os)\n",
        "\n",
        "# List Reverse\n",
        "os.reverse()\n",
        "\n",
        "# updated list\n",
        "print('Updated List:', os)\n",
        "\n",
        "#Reverse a List Using Slicing Operator\n",
        "# Operating System List\n",
        "os = ['Windows', 'macOS', 'Linux']\n",
        "print('Original List:', os)\n",
        "\n",
        "# Reversing a list\t\n",
        "#Syntax: reversed_list = os[start:stop:step] \n",
        "reversed_list = os[::-1]\n",
        "\n",
        "# updated list\n",
        "print('Updated List:', reversed_list)\n",
        "\n"
      ],
      "execution_count": 20,
      "outputs": [
        {
          "output_type": "stream",
          "text": [
            "Original List: ['Windows', 'macOS', 'Linux']\n",
            "Updated List: ['Linux', 'macOS', 'Windows']\n",
            "Original List: ['Windows', 'macOS', 'Linux']\n",
            "Updated List: ['Linux', 'macOS', 'Windows']\n"
          ],
          "name": "stdout"
        }
      ]
    },
    {
      "cell_type": "code",
      "metadata": {
        "id": "aKNdseimxLaS",
        "colab_type": "code",
        "colab": {
          "base_uri": "https://localhost:8080/",
          "height": 51
        },
        "outputId": "390d3b4d-11ef-4756-a960-2f1b498b278f"
      },
      "source": [
        "#sort function\n",
        "#The sort() method sorts the elements of a given list.\n",
        "# vowels list\n",
        "vowels = ['e', 'a', 'u', 'o', 'i']\n",
        "\n",
        "# sort the vowels\n",
        "vowels.sort()\n",
        "\n",
        "# print vowels\n",
        "print('Sorted list:', vowels)\n",
        "\n",
        "#Sort the list in Descending order\n",
        "# vowels list\n",
        "vowels = ['e', 'a', 'u', 'o', 'i']\n",
        "\n",
        "# sort the vowels\n",
        "vowels.sort(reverse=True)\n",
        "\n",
        "# print vowels\n",
        "print('Sorted list (in Descending):', vowels)"
      ],
      "execution_count": 21,
      "outputs": [
        {
          "output_type": "stream",
          "text": [
            "Sorted list: ['a', 'e', 'i', 'o', 'u']\n",
            "Sorted list (in Descending): ['u', 'o', 'i', 'e', 'a']\n"
          ],
          "name": "stdout"
        }
      ]
    },
    {
      "cell_type": "code",
      "metadata": {
        "id": "S8sGu82dxmzS",
        "colab_type": "code",
        "colab": {
          "base_uri": "https://localhost:8080/",
          "height": 51
        },
        "outputId": "c9924aac-54ad-4b23-b719-1ebba29cebbc"
      },
      "source": [
        "#copy function\n",
        "#The copy() method returns a shallow copy of the list.\n",
        "old_list = [1, 2, 3]\n",
        "new_list = old_list\n",
        "\n",
        "# add element to list\n",
        "new_list.append('a')\n",
        "\n",
        "print('New List:', new_list )\n",
        "print('Old List:', old_list )\n",
        "\n"
      ],
      "execution_count": 22,
      "outputs": [
        {
          "output_type": "stream",
          "text": [
            "New List: [1, 2, 3, 'a']\n",
            "Old List: [1, 2, 3, 'a']\n"
          ],
          "name": "stdout"
        }
      ]
    },
    {
      "cell_type": "code",
      "metadata": {
        "id": "uWhzNYpbyFVO",
        "colab_type": "code",
        "colab": {
          "base_uri": "https://localhost:8080/",
          "height": 34
        },
        "outputId": "9496a3ed-5de7-496c-acfe-50eb1422a3a3"
      },
      "source": [
        "#clear function\n",
        "#The clear() method removes all items from the list.\n",
        "# Defining a list\n",
        "list = [{1, 2}, ('a'), ['1.1', '2.2']]\n",
        "\n",
        "# clearing the list\n",
        "list.clear()\n",
        "\n",
        "print('List:', list)"
      ],
      "execution_count": 23,
      "outputs": [
        {
          "output_type": "stream",
          "text": [
            "List: []\n"
          ],
          "name": "stdout"
        }
      ]
    },
    {
      "cell_type": "markdown",
      "metadata": {
        "id": "n7fh2ZI0yYHf",
        "colab_type": "text"
      },
      "source": [
        "**# Tuple and its default functions**"
      ]
    },
    {
      "cell_type": "markdown",
      "metadata": {
        "id": "oS5LoYgM0bvP",
        "colab_type": "text"
      },
      "source": [
        "A tuple in Python is similar to a list. The difference between the two is that we cannot change the elements of a tuple once it is assigned whereas we can change the elements of a list."
      ]
    },
    {
      "cell_type": "code",
      "metadata": {
        "id": "oyC_fzaq0eC-",
        "colab_type": "code",
        "colab": {
          "base_uri": "https://localhost:8080/",
          "height": 119
        },
        "outputId": "dc9bb20f-024c-4fce-c0c2-487cf50c8be7"
      },
      "source": [
        "#creating a tuple\n",
        "my_tuple = (\"mouse\", [8, 4, 6], (1, 2, 3),\"mouse\")\n",
        "print(my_tuple)\n",
        "\n",
        "#Indexing\n",
        "# Accessing tuple elements using indexing\n",
        "my_tuple = ('p','e','r','m','i','t')\n",
        "\n",
        "print(my_tuple[0])   # 'p' \n",
        "print(my_tuple[5])   # 't'\n",
        "\n",
        "# nested tuple\n",
        "n_tuple = (\"mouse\", [8, 4, 6], (1, 2, 3))\n",
        "\n",
        "# nested index\n",
        "print(n_tuple[0][3])       # 's'\n",
        "print(n_tuple[1][1]) \n",
        "\n",
        "#counting\n",
        "my_tuple = (\"mouse\", [8, 4, 6], (1, 2, 3),\"mouse\")\n",
        "my_tuple.count('mouse')"
      ],
      "execution_count": 27,
      "outputs": [
        {
          "output_type": "stream",
          "text": [
            "('mouse', [8, 4, 6], (1, 2, 3), 'mouse')\n",
            "p\n",
            "t\n",
            "s\n",
            "4\n"
          ],
          "name": "stdout"
        },
        {
          "output_type": "execute_result",
          "data": {
            "text/plain": [
              "2"
            ]
          },
          "metadata": {
            "tags": []
          },
          "execution_count": 27
        }
      ]
    },
    {
      "cell_type": "markdown",
      "metadata": {
        "id": "nN1Esywb1xKC",
        "colab_type": "text"
      },
      "source": [
        "**# Dictinary and its default functions**"
      ]
    },
    {
      "cell_type": "markdown",
      "metadata": {
        "id": "AMkFZ-iw2myz",
        "colab_type": "text"
      },
      "source": [
        "Each key is separated from its value by a colon (:), the items are separated by commas, and the whole thing is enclosed in curly braces."
      ]
    },
    {
      "cell_type": "code",
      "metadata": {
        "id": "JJEl4pRk1iXk",
        "colab_type": "code",
        "colab": {
          "base_uri": "https://localhost:8080/",
          "height": 85
        },
        "outputId": "6616d835-c7d3-46fc-c06f-4efddd03847d"
      },
      "source": [
        "#copy function\n",
        "#They copy() method returns a shallow copy of the dictionary.\n",
        "original = {1:'one', 2:'two'}\n",
        "new = original.copy()\n",
        "\n",
        "print('Orignal: ', original)\n",
        "print('New: ', new)\n",
        "\n",
        "#fromkeys() functions\n",
        "#The fromkeys() method creates a new dictionary from the given sequence of elements with a value provided by the user.\n",
        "# vowels keys\n",
        "keys = {'a', 'e', 'i', 'o', 'u' }\n",
        "\n",
        "vowels = dict.fromkeys(keys)\n",
        "print(vowels)\n",
        "\n",
        "#Create a dictionary from a sequence of keys with value\n",
        "keys = {'a', 'e', 'i', 'o', 'u' }\n",
        "value = 'vowel'\n",
        "\n",
        "vowels = dict.fromkeys(keys, value)\n",
        "print(vowels)"
      ],
      "execution_count": 28,
      "outputs": [
        {
          "output_type": "stream",
          "text": [
            "Orignal:  {1: 'one', 2: 'two'}\n",
            "New:  {1: 'one', 2: 'two'}\n",
            "{'o': None, 'u': None, 'i': None, 'e': None, 'a': None}\n",
            "{'o': 'vowel', 'u': 'vowel', 'i': 'vowel', 'e': 'vowel', 'a': 'vowel'}\n"
          ],
          "name": "stdout"
        }
      ]
    },
    {
      "cell_type": "code",
      "metadata": {
        "id": "eZ3HGFVi4Hdn",
        "colab_type": "code",
        "colab": {
          "base_uri": "https://localhost:8080/",
          "height": 85
        },
        "outputId": "b3aa785c-6d1d-4b23-a1a0-33a5e1757a15"
      },
      "source": [
        "#get function\n",
        "#The get() method returns the value for the specified key if key is in dictionary.\n",
        "person = {'name': 'Phill', 'age': 22}\n",
        "\n",
        "print('Name: ', person.get('name'))\n",
        "print('Age: ', person.get('age'))\n",
        "\n",
        "# value is not provided\n",
        "print('Salary: ', person.get('salary'))\n",
        "\n",
        "# value is provided\n",
        "print('Salary: ', person.get('salary', 0.0))"
      ],
      "execution_count": 29,
      "outputs": [
        {
          "output_type": "stream",
          "text": [
            "Name:  Phill\n",
            "Age:  22\n",
            "Salary:  None\n",
            "Salary:  0.0\n"
          ],
          "name": "stdout"
        }
      ]
    },
    {
      "cell_type": "code",
      "metadata": {
        "id": "shlYRNR04bcn",
        "colab_type": "code",
        "colab": {
          "base_uri": "https://localhost:8080/",
          "height": 34
        },
        "outputId": "9c01c793-741a-413d-8b3c-4a19b40aac50"
      },
      "source": [
        "#Item function\n",
        "#The items() method returns a view object that displays a list of dictionary's (key, value) tuple pairs.\n",
        "# random sales dictionary\n",
        "sales = { 'apple': 2, 'orange': 3, 'grapes': 4 }\n",
        "\n",
        "print(sales.items())\n",
        "\n"
      ],
      "execution_count": 30,
      "outputs": [
        {
          "output_type": "stream",
          "text": [
            "dict_items([('apple', 2), ('orange', 3), ('grapes', 4)])\n"
          ],
          "name": "stdout"
        }
      ]
    },
    {
      "cell_type": "code",
      "metadata": {
        "id": "lq0Y-N-K4zB0",
        "colab_type": "code",
        "colab": {
          "base_uri": "https://localhost:8080/",
          "height": 51
        },
        "outputId": "ed67ea3f-8bf4-4b41-a0d2-260553b2c160"
      },
      "source": [
        "#key function\n",
        "#The keys() method returns a view object that displays a list of all the keys in the dictionary\n",
        "person = {'name': 'Phill', 'age': 22, 'salary': 3500.0}\n",
        "print(person.keys())\n",
        "\n",
        "empty_dict = {}\n",
        "print(empty_dict.keys())"
      ],
      "execution_count": 31,
      "outputs": [
        {
          "output_type": "stream",
          "text": [
            "dict_keys(['name', 'age', 'salary'])\n",
            "dict_keys([])\n"
          ],
          "name": "stdout"
        }
      ]
    },
    {
      "cell_type": "code",
      "metadata": {
        "id": "nDvttilB5Say",
        "colab_type": "code",
        "colab": {
          "base_uri": "https://localhost:8080/",
          "height": 85
        },
        "outputId": "24dc12e6-4357-4965-b92c-5747bddafcb1"
      },
      "source": [
        "#popitem Function\n",
        "#The popitem() method removes and returns the last element (key, value) pair inserted into the dictionary.\n",
        "person = {'name': 'Phill', 'age': 22, 'salary': 3500.0}\n",
        "\n",
        "# ('salary', 3500.0) is inserted at the last, so it is removed.\n",
        "result = person.popitem()\n",
        "\n",
        "print('Return Value = ', result)\n",
        "print('person = ', person)\n",
        "\n",
        "# inserting a new element pair\n",
        "person['profession'] = 'Plumber'\n",
        "\n",
        "# now ('profession', 'Plumber') is the latest element\n",
        "result = person.popitem()\n",
        "\n",
        "print('Return Value = ', result)\n",
        "print('person = ', person)"
      ],
      "execution_count": 32,
      "outputs": [
        {
          "output_type": "stream",
          "text": [
            "Return Value =  ('salary', 3500.0)\n",
            "person =  {'name': 'Phill', 'age': 22}\n",
            "Return Value =  ('profession', 'Plumber')\n",
            "person =  {'name': 'Phill', 'age': 22}\n"
          ],
          "name": "stdout"
        }
      ]
    },
    {
      "cell_type": "code",
      "metadata": {
        "id": "KhmfjCGF5t_o",
        "colab_type": "code",
        "colab": {
          "base_uri": "https://localhost:8080/",
          "height": 51
        },
        "outputId": "7dbee41b-8f6f-41d0-97b3-d783489267c9"
      },
      "source": [
        "#set default function\n",
        "#The setdefault() method returns the value of a key (if the key is in dictionary). If not, it inserts key with a value to the dictionary.\n",
        "person = {'name': 'Phill', 'age': 22}\n",
        "\n",
        "age = person.setdefault('age')\n",
        "print('person = ',person)\n",
        "print('Age = ',age)"
      ],
      "execution_count": 33,
      "outputs": [
        {
          "output_type": "stream",
          "text": [
            "person =  {'name': 'Phill', 'age': 22}\n",
            "Age =  22\n"
          ],
          "name": "stdout"
        }
      ]
    },
    {
      "cell_type": "code",
      "metadata": {
        "id": "3sUqD09y6K29",
        "colab_type": "code",
        "colab": {
          "base_uri": "https://localhost:8080/",
          "height": 51
        },
        "outputId": "c39c5f4c-f869-4668-9169-9ef76bbe567e"
      },
      "source": [
        "#pop function\n",
        "#The pop() method removes and returns an element from a dictionary having the given key.\n",
        "# random sales dictionary\n",
        "sales = { 'apple': 2, 'orange': 3, 'grapes': 4 }\n",
        "\n",
        "element = sales.pop('apple')\n",
        "print('The popped element is:', element)\n",
        "print('The dictionary is:', sales)"
      ],
      "execution_count": 34,
      "outputs": [
        {
          "output_type": "stream",
          "text": [
            "The popped element is: 2\n",
            "The dictionary is: {'orange': 3, 'grapes': 4}\n"
          ],
          "name": "stdout"
        }
      ]
    },
    {
      "cell_type": "code",
      "metadata": {
        "id": "gnZcGNTa6e20",
        "colab_type": "code",
        "colab": {
          "base_uri": "https://localhost:8080/",
          "height": 34
        },
        "outputId": "1c9fbb22-4b8b-45c3-b660-b735b2afa6e4"
      },
      "source": [
        "#values function\n",
        "#The values() method returns a view object that displays a list of all the values in the dictionary.\n",
        "# random sales dictionary\n",
        "sales = { 'apple': 2, 'orange': 3, 'grapes': 4 }\n",
        "\n",
        "print(sales.values())"
      ],
      "execution_count": 35,
      "outputs": [
        {
          "output_type": "stream",
          "text": [
            "dict_values([2, 3, 4])\n"
          ],
          "name": "stdout"
        }
      ]
    },
    {
      "cell_type": "code",
      "metadata": {
        "id": "-eLnNN3O6xHv",
        "colab_type": "code",
        "colab": {
          "base_uri": "https://localhost:8080/",
          "height": 51
        },
        "outputId": "de9b817c-5910-4ddc-eae8-2ab0db376672"
      },
      "source": [
        "#update function\n",
        "#The update() method updates the dictionary with the elements from the another dictionary object or from an iterable of key/value pairs.\n",
        "d = {1: \"one\", 2: \"three\"}\n",
        "d1 = {2: \"two\"}\n",
        "\n",
        "# updates the value of key 2\n",
        "d.update(d1)\n",
        "print(d)\n",
        "\n",
        "d1 = {3: \"three\"}\n",
        "\n",
        "# adds element with key 3\n",
        "d.update(d1)\n",
        "print(d)"
      ],
      "execution_count": 36,
      "outputs": [
        {
          "output_type": "stream",
          "text": [
            "{1: 'one', 2: 'two'}\n",
            "{1: 'one', 2: 'two', 3: 'three'}\n"
          ],
          "name": "stdout"
        }
      ]
    },
    {
      "cell_type": "markdown",
      "metadata": {
        "id": "8GfaDVw27L-m",
        "colab_type": "text"
      },
      "source": [
        "**# String and its default function**"
      ]
    },
    {
      "cell_type": "markdown",
      "metadata": {
        "id": "mPLrjuFG7ScW",
        "colab_type": "text"
      },
      "source": [
        "Strings are arrays of bytes representing Unicode characters"
      ]
    },
    {
      "cell_type": "code",
      "metadata": {
        "id": "taHyYrZ37Ieb",
        "colab_type": "code",
        "colab": {
          "base_uri": "https://localhost:8080/",
          "height": 51
        },
        "outputId": "884d002a-df26-4358-f9ab-6a32d98ce7ed"
      },
      "source": [
        "#capitalize function\n",
        "#In Python, the capitalize() method converts first character of a string to uppercase letter and lowercases all other characters, if any.\n",
        "string = \"python is AWesome.\"\n",
        "\n",
        "capitalized_string = string.capitalize()\n",
        "\n",
        "print('Old String: ', string)\n",
        "print('Capitalized String:', capitalized_string)"
      ],
      "execution_count": 37,
      "outputs": [
        {
          "output_type": "stream",
          "text": [
            "Old String:  python is AWesome.\n",
            "Capitalized String: Python is awesome.\n"
          ],
          "name": "stdout"
        }
      ]
    },
    {
      "cell_type": "code",
      "metadata": {
        "id": "Id7XXR2E8aJk",
        "colab_type": "code",
        "colab": {
          "base_uri": "https://localhost:8080/",
          "height": 34
        },
        "outputId": "cc22fa01-29ff-43b7-85c0-939420d00a1f"
      },
      "source": [
        "#center function\n",
        "#The center() method returns a string which is padded with the specified character.\n",
        "string = \"Python is awesome\"\n",
        "\n",
        "new_string = string.center(24)\n",
        "\n",
        "print(\"Centered String: \", new_string)"
      ],
      "execution_count": 38,
      "outputs": [
        {
          "output_type": "stream",
          "text": [
            "Centered String:     Python is awesome    \n"
          ],
          "name": "stdout"
        }
      ]
    },
    {
      "cell_type": "code",
      "metadata": {
        "id": "OqMogbWQ850n",
        "colab_type": "code",
        "colab": {
          "base_uri": "https://localhost:8080/",
          "height": 34
        },
        "outputId": "70bbded2-3fe7-4a3b-b7da-a679ac0bbb00"
      },
      "source": [
        "#count function\n",
        "#The string count() method returns the number of occurrences of a substring in the given string.\n",
        "# define string\n",
        "string = \"Python is awesome, isn't it?\"\n",
        "substring = \"is\"\n",
        "\n",
        "count = string.count(substring)\n",
        "\n",
        "# print count\n",
        "print(\"The count is:\", count)"
      ],
      "execution_count": 39,
      "outputs": [
        {
          "output_type": "stream",
          "text": [
            "The count is: 2\n"
          ],
          "name": "stdout"
        }
      ]
    },
    {
      "cell_type": "code",
      "metadata": {
        "id": "8lJ6SsQZ9Flx",
        "colab_type": "code",
        "colab": {
          "base_uri": "https://localhost:8080/",
          "height": 68
        },
        "outputId": "ce3de13c-ff72-4f72-df70-aed5d89001ec"
      },
      "source": [
        "#endswith function\n",
        "#The endswith() method returns True if a string ends with the specified suffix. If not, it returns False.\n",
        "text = \"Python is easy to learn.\"\n",
        "\n",
        "result = text.endswith('to learn')\n",
        "# returns False\n",
        "print(result)\n",
        "\n",
        "result = text.endswith('to learn.')\n",
        "# returns True\n",
        "print(result)\n",
        "\n",
        "result = text.endswith('Python is easy to learn.')\n",
        "# returns True\n",
        "print(result)"
      ],
      "execution_count": 40,
      "outputs": [
        {
          "output_type": "stream",
          "text": [
            "False\n",
            "True\n",
            "True\n"
          ],
          "name": "stdout"
        }
      ]
    },
    {
      "cell_type": "code",
      "metadata": {
        "id": "g5mLLmGh9Uvl",
        "colab_type": "code",
        "colab": {
          "base_uri": "https://localhost:8080/",
          "height": 34
        },
        "outputId": "bbfe3226-0d2a-4643-dfa7-71f7d46f76cc"
      },
      "source": [
        "#expandtabs function()\n",
        "#The expandtabs() method returns a copy of string with all tab characters '\\t' replaced with whitespace characters until the next multiple of tabsize parameter.\n",
        "str = 'xyz\\t12345\\tabc'\n",
        "\n",
        "# no argument is passed\n",
        "# default tabsize is 8\n",
        "result = str.expandtabs()\n",
        "\n",
        "print(result)"
      ],
      "execution_count": 41,
      "outputs": [
        {
          "output_type": "stream",
          "text": [
            "xyz     12345   abc\n"
          ],
          "name": "stdout"
        }
      ]
    },
    {
      "cell_type": "code",
      "metadata": {
        "id": "i_2H1xkY9jJp",
        "colab_type": "code",
        "colab": {
          "base_uri": "https://localhost:8080/",
          "height": 51
        },
        "outputId": "bfd8a79d-8cb0-4ea7-a474-199386b4d1ce"
      },
      "source": [
        "#encode function\n",
        "#The string encode() method returns encoded version of the given string.\n",
        "# unicode string\n",
        "string = 'pythön!'\n",
        "\n",
        "# print string\n",
        "print('The string is:', string)\n",
        "\n",
        "# default encoding to utf-8\n",
        "string_utf = string.encode()\n",
        "\n",
        "# print result\n",
        "print('The encoded version is:', string_utf)"
      ],
      "execution_count": 42,
      "outputs": [
        {
          "output_type": "stream",
          "text": [
            "The string is: pythön!\n",
            "The encoded version is: b'pyth\\xc3\\xb6n!'\n"
          ],
          "name": "stdout"
        }
      ]
    },
    {
      "cell_type": "code",
      "metadata": {
        "id": "6U6awkee9yNR",
        "colab_type": "code",
        "colab": {
          "base_uri": "https://localhost:8080/",
          "height": 68
        },
        "outputId": "da5ce6a9-0aaa-4717-948c-2ba3dfc7ecbf"
      },
      "source": [
        "#find function\n",
        "#The find() method returns the index of first occurrence of the substring (if found). If not found, it returns -1.\n",
        "quote = 'Let it be, let it be, let it be'\n",
        "\n",
        "# first occurance of 'let it'(case sensitive)\n",
        "result = quote.find('let it')\n",
        "print(\"Substring 'let it':\", result)\n",
        "\n",
        "# find returns -1 if substring not found\n",
        "result = quote.find('small')\n",
        "print(\"Substring 'small ':\", result)\n",
        "\n",
        "# How to use find()\n",
        "if (quote.find('be,') != -1):\n",
        "    print(\"Contains substring 'be,'\")\n",
        "else:\n",
        "    print(\"Doesn't contain substring\")"
      ],
      "execution_count": 43,
      "outputs": [
        {
          "output_type": "stream",
          "text": [
            "Substring 'let it': 11\n",
            "Substring 'small ': -1\n",
            "Contains substring 'be,'\n"
          ],
          "name": "stdout"
        }
      ]
    },
    {
      "cell_type": "code",
      "metadata": {
        "id": "CBOKchv1-Bza",
        "colab_type": "code",
        "colab": {
          "base_uri": "https://localhost:8080/",
          "height": 34
        },
        "outputId": "669e6b2b-750c-41cd-b884-e925025d9624"
      },
      "source": [
        "#index function\n",
        "#The index() method returns the index of a substring inside the string (if found). If the substring is not found, it raises an exception.\n",
        "sentence = \"hellow world good night\"\n",
        "print(\"The Index of good:\", sentence.index(\"good\"))\n"
      ],
      "execution_count": 45,
      "outputs": [
        {
          "output_type": "stream",
          "text": [
            "The Index of good: 13\n"
          ],
          "name": "stdout"
        }
      ]
    }
  ]
}