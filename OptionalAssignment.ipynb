{
  "nbformat": 4,
  "nbformat_minor": 0,
  "metadata": {
    "colab": {
      "name": "Untitled4.ipynb",
      "provenance": [],
      "authorship_tag": "ABX9TyO9iNnTgGZD4B4dPAflUSik",
      "include_colab_link": true
    },
    "kernelspec": {
      "name": "python3",
      "display_name": "Python 3"
    }
  },
  "cells": [
    {
      "cell_type": "markdown",
      "metadata": {
        "id": "view-in-github",
        "colab_type": "text"
      },
      "source": [
        "<a href=\"https://colab.research.google.com/github/sumalatha-e/PythonLearningProject/blob/master/OptionalAssignment.ipynb\" target=\"_parent\"><img src=\"https://colab.research.google.com/assets/colab-badge.svg\" alt=\"Open In Colab\"/></a>"
      ]
    },
    {
      "cell_type": "code",
      "metadata": {
        "id": "ckqFEfWFMIgn",
        "colab_type": "code",
        "colab": {
          "base_uri": "https://localhost:8080/",
          "height": 34
        },
        "outputId": "ea547001-09f7-47ad-f3c3-07f2be708a31"
      },
      "source": [
        "givenString=\"All-convoYs-9-be:Alert1.\"\n",
        "cyperPlaceHolder=4\n",
        "encodedString=\"\"\n",
        "for letter in givenString:\n",
        "    if (not letter.isdigit() and not letter.isalpha()):\n",
        "        encodedString+=letter\n",
        "    else:\n",
        "        oderdASCIILetter=ord(letter)\n",
        "        for i in range(0,cyperPlaceHolder):\n",
        "            if oderdASCIILetter==ord('9'):\n",
        "                oderdASCIILetter=ord('0')\n",
        "            if oderdASCIILetter==ord('z'):\n",
        "                oderdASCIILetter=ord('a')\n",
        "            if oderdASCIILetter==ord('Z'):\n",
        "                oderdASCIILetter=ord('A')\n",
        "            oderdASCIILetter=oderdASCIILetter+1\n",
        "        encodedString+=chr(oderdASCIILetter)\n",
        "print(encodedString)\n",
        "\n"
      ],
      "execution_count": 5,
      "outputs": [
        {
          "output_type": "stream",
          "text": [
            "Epp-gsrzsDw-4-fi:Epivx5.\n"
          ],
          "name": "stdout"
        }
      ]
    },
    {
      "cell_type": "code",
      "metadata": {
        "id": "_YVk8iyGeMyC",
        "colab_type": "code",
        "colab": {}
      },
      "source": [
        ""
      ],
      "execution_count": 0,
      "outputs": []
    }
  ]
}