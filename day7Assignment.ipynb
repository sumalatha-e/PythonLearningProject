{
  "nbformat": 4,
  "nbformat_minor": 0,
  "metadata": {
    "colab": {
      "name": "Untitled11.ipynb",
      "provenance": [],
      "collapsed_sections": [],
      "authorship_tag": "ABX9TyMpLlX2AcfYjv9fUT6C0IHp",
      "include_colab_link": true
    },
    "kernelspec": {
      "name": "python3",
      "display_name": "Python 3"
    }
  },
  "cells": [
    {
      "cell_type": "markdown",
      "metadata": {
        "id": "view-in-github",
        "colab_type": "text"
      },
      "source": [
        "<a href=\"https://colab.research.google.com/github/sumalatha-e/PythonLearningProject/blob/master/day7Assignment.ipynb\" target=\"_parent\"><img src=\"https://colab.research.google.com/assets/colab-badge.svg\" alt=\"Open In Colab\"/></a>"
      ]
    },
    {
      "cell_type": "code",
      "metadata": {
        "id": "WO5l1jrkO9JH",
        "colab_type": "code",
        "colab": {
          "base_uri": "https://localhost:8080/",
          "height": 408
        },
        "outputId": "7d1d78e8-27fa-40aa-c026-efa321234e21"
      },
      "source": [
        "def Finbnochi():\n",
        "  First_number=int(input(\"Enter the first number to generate fibonacci sequence: \"))\n",
        "  Last_number=int(input(\"Enter the last number to generate fibonacci sequence: \"))\n",
        "\n",
        "  def fib(nterms):\n",
        "    # first two terms\n",
        "    n1, n2 = First_number, First_number+1\n",
        "    count = 0\n",
        "\n",
        "    # check if the number of terms is valid\n",
        "    if nterms <= 0:\n",
        "      print(\"Please enter a positive integer\")\n",
        "    elif nterms == n1:\n",
        "      print(\"Fibonacci sequence upto\",nterms,\":\")\n",
        "      print(n1)\n",
        "    elif nterms <n1:\n",
        "      print(\"valid range\")\n",
        "    else:\n",
        "      print(\"Fibonacci sequence:\")\n",
        "      while count < nterms:\n",
        "          print(n1)\n",
        "          nth = n1 + n2\n",
        "          # update values\n",
        "          n1 = n2\n",
        "          n2 = nth\n",
        "          count += 1\n",
        "\n",
        "  def callFib() :\n",
        "    return fib(Last_number)\n",
        "  return callFib\n",
        "\n",
        "fibonochiDec = Finbnochi();\n",
        "\n",
        "fibonochiDec()"
      ],
      "execution_count": 36,
      "outputs": [
        {
          "output_type": "stream",
          "text": [
            "Enter the first number to generate fibonacci sequence: 10\n",
            "Enter the last number to generate fibonacci sequence: 20\n",
            "Fibonacci sequence:\n",
            "10\n",
            "11\n",
            "21\n",
            "32\n",
            "53\n",
            "85\n",
            "138\n",
            "223\n",
            "361\n",
            "584\n",
            "945\n",
            "1529\n",
            "2474\n",
            "4003\n",
            "6477\n",
            "10480\n",
            "16957\n",
            "27437\n",
            "44394\n",
            "71831\n"
          ],
          "name": "stdout"
        }
      ]
    }
  ]
}