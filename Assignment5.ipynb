{
  "nbformat": 4,
  "nbformat_minor": 0,
  "metadata": {
    "colab": {
      "name": "Untitled9.ipynb",
      "provenance": [],
      "collapsed_sections": [],
      "authorship_tag": "ABX9TyOjB9Y6pmJ5EfTsZA7mZt+u",
      "include_colab_link": true
    },
    "kernelspec": {
      "name": "python3",
      "display_name": "Python 3"
    }
  },
  "cells": [
    {
      "cell_type": "markdown",
      "metadata": {
        "id": "view-in-github",
        "colab_type": "text"
      },
      "source": [
        "<a href=\"https://colab.research.google.com/github/sumalatha-e/PythonLearningProject/blob/master/Assignment5.ipynb\" target=\"_parent\"><img src=\"https://colab.research.google.com/assets/colab-badge.svg\" alt=\"Open In Colab\"/></a>"
      ]
    },
    {
      "cell_type": "code",
      "metadata": {
        "id": "oF7Nph5WakOX",
        "colab_type": "code",
        "colab": {
          "base_uri": "https://localhost:8080/",
          "height": 102
        },
        "outputId": "9e81d729-7135-4282-c674-e9ae0d4f8a90"
      },
      "source": [
        "#Qest 1 Bank account class \n",
        "class BankAccount():\n",
        "  def __init__(self, owner, balance):\n",
        "    self.owner = owner\n",
        "    self.balance = balance\n",
        "\n",
        "  def deposite(self, amount):\n",
        "    self.balance = self.balance + amount\n",
        "    print(\"Amount \"+str(amount)+\" deposited\")\n",
        "    print(\"Total balance:\" + str(self.balance))\n",
        "\n",
        "  def withdraw(self, amount):\n",
        "    if(amount <= self.balance):\n",
        "      self.balance = self.balance - amount\n",
        "      print(\"withdrawn successfully\")\n",
        "      print(\"Total balance:\" + str(self.balance))\n",
        "    else:\n",
        "      print(\"Account blalnce is insufficient\")\n",
        "\n",
        "obj = BankAccount(\"Pavan\", 5000)\n",
        "obj.deposite(5000)\n",
        "obj.withdraw(100001)\n",
        "obj.withdraw(6000)\n",
        "\n"
      ],
      "execution_count": 5,
      "outputs": [
        {
          "output_type": "stream",
          "text": [
            "Amount 5000 deposited\n",
            "Total balance:10000\n",
            "Account blalnce is insufficient\n",
            "withdrawn successfully\n",
            "Total balance:4000\n"
          ],
          "name": "stdout"
        }
      ]
    },
    {
      "cell_type": "code",
      "metadata": {
        "id": "a7j1bZAoeiq2",
        "colab_type": "code",
        "colab": {
          "base_uri": "https://localhost:8080/",
          "height": 68
        },
        "outputId": "cdaa5d8c-eaf6-497c-eb9d-28d1d8548ee4"
      },
      "source": [
        "#Question2 : cone class\n",
        "import math\n",
        "\n",
        "class Cone():\n",
        "  def __init__(self, radius, height):\n",
        "    self.radius = radius\n",
        "    self.height = height\n",
        "  def volume(self):\n",
        "    print(\"volume = \"+str(math.pi*math.pow(self.radius,2)*(self.height/3)))\n",
        "  def surfaceArea(self):\n",
        "    print(\"base = \"+str(math.pi*math.pow(self.radius,2)))\n",
        "    print(\"side = \"+ str(math.pi*self.radius*math.sqrt(math.pow(self.radius,2)+math.pow(self.height,2))))\n",
        "\n",
        "obj = Cone(2,4)\n",
        "obj.volume()\n",
        "obj.surfaceArea()"
      ],
      "execution_count": 11,
      "outputs": [
        {
          "output_type": "stream",
          "text": [
            "volume = 16.755160819145562\n",
            "base = 12.566370614359172\n",
            "side = 28.099258924162907\n"
          ],
          "name": "stdout"
        }
      ]
    }
  ]
}