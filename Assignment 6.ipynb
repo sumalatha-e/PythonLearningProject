{
  "nbformat": 4,
  "nbformat_minor": 0,
  "metadata": {
    "colab": {
      "name": "Untitled10.ipynb",
      "provenance": [],
      "collapsed_sections": [],
      "authorship_tag": "ABX9TyMKYi4oGUvduyYCbt0aGRZp",
      "include_colab_link": true
    },
    "kernelspec": {
      "name": "python3",
      "display_name": "Python 3"
    }
  },
  "cells": [
    {
      "cell_type": "markdown",
      "metadata": {
        "id": "view-in-github",
        "colab_type": "text"
      },
      "source": [
        "<a href=\"https://colab.research.google.com/github/sumalatha-e/PythonLearningProject/blob/master/Assignment%206.ipynb\" target=\"_parent\"><img src=\"https://colab.research.google.com/assets/colab-badge.svg\" alt=\"Open In Colab\"/></a>"
      ]
    },
    {
      "cell_type": "code",
      "metadata": {
        "id": "F4h2FnEtEgPE",
        "colab_type": "code",
        "colab": {
          "base_uri": "https://localhost:8080/",
          "height": 51
        },
        "outputId": "dda8b3ba-7e9d-464e-ad62-9498434ba24b"
      },
      "source": [
        "createdFile = open(\"FCS.txt\", 'w')\n",
        "createdFile.write(\"ABC\");\n",
        "createdFile.close();\n",
        "try:\n",
        "    file = open(\"FCS.txt\",'r')\n",
        "    file.write(\"ABC\")\n",
        "except Exception as e:\n",
        "    print(\"The file gave us error - \", e)\n",
        "    file = open(\"FCS.txt\",'r')\n",
        "    print(file.read())\n",
        "finally:\n",
        "    file.close()"
      ],
      "execution_count": 4,
      "outputs": [
        {
          "output_type": "stream",
          "text": [
            "The file gave us error -  not writable\n",
            "ABC\n"
          ],
          "name": "stdout"
        }
      ]
    },
    {
      "cell_type": "code",
      "metadata": {
        "id": "IS9tlPjxFt8J",
        "colab_type": "code",
        "colab": {}
      },
      "source": [
        "# ques 2 - unit test given number is it Prime or not\n",
        "%%writefile Is_PrimeNumber.py\n",
        "def isPrimeNumber(numberToCheck):\n",
        "  return (numberToCheck<=3) or ( (numberToCheck%2 != 0) and (numberToCheck%3 != 0))"
      ],
      "execution_count": 0,
      "outputs": []
    },
    {
      "cell_type": "code",
      "metadata": {
        "id": "ld-lzhEOHOGJ",
        "colab_type": "code",
        "colab": {}
      },
      "source": [
        "%%writefile unittestof_Prime.py\n",
        "import unittest\n",
        "import Is_PrimeNumber\n",
        "\n",
        "class TestPrime(unittest.TestCase):\n",
        "\n",
        "  def testprime_withPrime(self):\n",
        "    result= Is_PrimeNumber.isPrimeNumber(31)\n",
        "    self.assertEqual(result, True)\n",
        "\n",
        "  def testprime_withNonPrime(self):\n",
        "    result= Is_PrimeNumber.isPrimeNumber(4)\n",
        "    self.assertEqual(result, False)\n",
        "if __name__ == '__main__':\n",
        "    unittest.main()"
      ],
      "execution_count": 0,
      "outputs": []
    },
    {
      "cell_type": "code",
      "metadata": {
        "id": "Zg7YfxSNIq55",
        "colab_type": "code",
        "colab": {
          "base_uri": "https://localhost:8080/",
          "height": 102
        },
        "outputId": "8b21bbd9-3ead-48df-854f-e47250ed0393"
      },
      "source": [
        "! python unittestof_Prime.py"
      ],
      "execution_count": 26,
      "outputs": [
        {
          "output_type": "stream",
          "text": [
            "..\n",
            "----------------------------------------------------------------------\n",
            "Ran 2 tests in 0.000s\n",
            "\n",
            "OK\n"
          ],
          "name": "stdout"
        }
      ]
    },
    {
      "cell_type": "markdown",
      "metadata": {
        "id": "02nGzPNGEneE",
        "colab_type": "text"
      },
      "source": [
        ""
      ]
    }
  ]
}