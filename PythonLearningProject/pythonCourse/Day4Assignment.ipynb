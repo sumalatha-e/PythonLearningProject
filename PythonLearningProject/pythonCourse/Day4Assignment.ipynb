{
  "nbformat": 4,
  "nbformat_minor": 0,
  "metadata": {
    "colab": {
      "name": "Copy of Untitled8.ipynb",
      "provenance": [],
      "authorship_tag": "ABX9TyNfuUuMvj82CBl+z/hIH5sH",
      "include_colab_link": true
    },
    "kernelspec": {
      "name": "python3",
      "display_name": "Python 3"
    }
  },
  "cells": [
    {
      "cell_type": "markdown",
      "metadata": {
        "id": "view-in-github",
        "colab_type": "text"
      },
      "source": [
        "<a href=\"https://colab.research.google.com/github/sumalatha-e/PythonLearningProject/blob/master/PythonLearningProject/pythonCourse/Day4Assignment.ipynb\" target=\"_parent\"><img src=\"https://colab.research.google.com/assets/colab-badge.svg\" alt=\"Open In Colab\"/></a>"
      ]
    },
    {
      "cell_type": "markdown",
      "metadata": {
        "id": "U7F2jf-xHEiG",
        "colab_type": "text"
      },
      "source": [
        "**#Day 4 Assignment**"
      ]
    },
    {
      "cell_type": "code",
      "metadata": {
        "id": "Pee5pbIsHK5C",
        "colab_type": "code",
        "outputId": "0741fcc9-d763-4dbe-8aee-886a0f4d0db1",
        "colab": {
          "base_uri": "https://localhost:8080/",
          "height": 323
        }
      },
      "source": [
        "actual =input(\"Enter number of elements in act list : \").split(\",\")\n",
        "sub_list =input(\"Enter number of elements in sub list : \").split(\",\")\n",
        "temp=0\n",
        "list = []\n",
        "# print (act)\n",
        "for i in sub:\n",
        "  if(temp==len(actual)):\n",
        "    break\n",
        "  for _ in actual:\n",
        "    print(i + \" \" + _)\n",
        "    if temp!=len(actual):\n",
        "     if i==actual[temp]:\n",
        "       list.append(actual[temp])\n",
        "       temp=temp+1\n",
        "       break\n",
        "     else:\n",
        "       temp=temp+1\n",
        "  \n",
        "if len(sub)==len(list):\n",
        "   print(\"Match\")\n",
        "else:\n",
        "    print(\"Not match\")"
      ],
      "execution_count": 0,
      "outputs": [
        {
          "output_type": "stream",
          "text": [
            "Enter number of elements in act list : 1,2,3,4,5,6,7,8,9\n",
            "Enter number of elements in sub list : 6,3,2,7,1\n",
            "6 1\n",
            "6 2\n",
            "6 3\n",
            "6 4\n",
            "6 5\n",
            "6 6\n",
            "4 1\n",
            "4 2\n",
            "4 3\n",
            "4 4\n",
            "4 5\n",
            "4 6\n",
            "4 7\n",
            "4 8\n",
            "4 9\n",
            "Not match\n"
          ],
          "name": "stdout"
        }
      ]
    }
  ]
}